{
 "cells": [
  {
   "cell_type": "code",
   "execution_count": 1,
   "id": "a0ab1997-567c-4127-9554-c78fff9cbc6c",
   "metadata": {},
   "outputs": [],
   "source": [
    "import itertools\n",
    "import numpy as np"
   ]
  },
  {
   "cell_type": "code",
   "execution_count": 2,
   "id": "b94c890c-456b-49ee-b05c-c3970deb3646",
   "metadata": {},
   "outputs": [],
   "source": [
    "m = 16\n",
    "spacing = 1.5 # > particle size\n",
    "L = m * spacing\n",
    "\n",
    "N_tot = m**3\n",
    "N_particles = N_tot\n",
    "\n",
    "x = np.linspace(-L/2, L/2, m, endpoint=False) + spacing/2\n",
    "position = list(itertools.product(x, repeat=3))[:N_particles]\n",
    "position = np.asarray(position)"
   ]
  },
  {
   "cell_type": "code",
   "execution_count": 3,
   "id": "d7677586-2253-46ac-aeb6-aa6be3fa0253",
   "metadata": {},
   "outputs": [
    {
     "data": {
      "text/plain": [
       "array([[-11.25, -11.25, -11.25],\n",
       "       [-11.25, -11.25,  -9.75],\n",
       "       [-11.25, -11.25,  -8.25],\n",
       "       ...,\n",
       "       [ 11.25,  11.25,   8.25],\n",
       "       [ 11.25,  11.25,   9.75],\n",
       "       [ 11.25,  11.25,  11.25]])"
      ]
     },
     "execution_count": 3,
     "metadata": {},
     "output_type": "execute_result"
    }
   ],
   "source": [
    "position"
   ]
  },
  {
   "cell_type": "code",
   "execution_count": 4,
   "id": "26875f4d-a324-489f-8afe-bf362bcd197d",
   "metadata": {},
   "outputs": [],
   "source": [
    "type=[1]\n",
    "mass=[1.0]\n",
    "\n",
    "with open('opp.init', 'w') as f:\n",
    "\n",
    "    f.write('LAMMPS data file, version 2023-ICMS, timestep = unkown\\n\\n')\n",
    "    \n",
    "    f.write('{} atoms\\n\\n'.format(N_particles))\n",
    "    \n",
    "    f.write('{} atom types\\n\\n'.format(len(type)))\n",
    "    \n",
    "    f.write('{} {} xlo xhi\\n'.format(-L/2,L/2))\n",
    "    f.write('{} {} ylo yhi\\n'.format(-L/2,L/2))\n",
    "    f.write('{} {} zlo zhi\\n\\n'.format(-L/2,L/2))\n",
    "\n",
    "    f.write('Masses\\n\\n')\n",
    "    f.write('{} {}\\n'.format(type[0],mass[0]))\n",
    "\n",
    "    f.write('Atoms\\n\\n')\n",
    "    for i, l in enumerate(position):\n",
    "        f.write('{} {} {:7.3f} {:7.3f} {:7.3f}\\n'.format(i+1, type[0],*l))\n"
   ]
  }
 ],
 "metadata": {
  "kernelspec": {
   "display_name": "Python 3 (ipykernel)",
   "language": "python",
   "name": "python3"
  },
  "language_info": {
   "codemirror_mode": {
    "name": "ipython",
    "version": 3
   },
   "file_extension": ".py",
   "mimetype": "text/x-python",
   "name": "python",
   "nbconvert_exporter": "python",
   "pygments_lexer": "ipython3",
   "version": "3.11.6"
  }
 },
 "nbformat": 4,
 "nbformat_minor": 5
}
