{
 "cells": [
  {
   "cell_type": "code",
   "execution_count": 1,
   "id": "d3cc4a1e-17f2-4790-be13-26213b052ce5",
   "metadata": {},
   "outputs": [],
   "source": [
    "import numpy as np\n",
    "import matplotlib.pyplot as plt"
   ]
  },
  {
   "cell_type": "code",
   "execution_count": 2,
   "id": "14f1eaca-f677-4289-907e-01bcb3694555",
   "metadata": {},
   "outputs": [],
   "source": [
    "p10 = np.loadtxt('./potentials/potential.10.dat', unpack=True)"
   ]
  },
  {
   "cell_type": "code",
   "execution_count": 4,
   "id": "746a7b5e-f3d9-4cab-aaf2-20eb53663b29",
   "metadata": {},
   "outputs": [],
   "source": [
    "index = np.arange(p10.shape[1])+1"
   ]
  },
  {
   "cell_type": "code",
   "execution_count": 5,
   "id": "2c012d8e-0f6c-4b7a-a9be-a42c7e305bcf",
   "metadata": {},
   "outputs": [],
   "source": [
    "pp10 = np.vstack((index, p10))"
   ]
  },
  {
   "cell_type": "code",
   "execution_count": 8,
   "id": "968bb51d-2980-487f-a8b8-653da78e0499",
   "metadata": {},
   "outputs": [],
   "source": [
    "fmt = '%d', '%1.2f', '%1.5f', '%1.5f'\n",
    "np.savetxt('pp10.table', pp10.T, fmt=fmt)"
   ]
  },
  {
   "cell_type": "code",
   "execution_count": 16,
   "id": "afb126c6-3e3d-4123-821a-e7d5482c44cd",
   "metadata": {},
   "outputs": [],
   "source": [
    "pp10_test = np.loadtxt('pp10.test', unpack=True, skiprows=5)\n",
    "\n",
    "plt.plot(pp10_test[1], pp10_test[2])"
   ]
  }
 ],
 "metadata": {
  "kernelspec": {
   "display_name": "Python 3 (ipykernel)",
   "language": "python",
   "name": "python3"
  },
  "language_info": {
   "codemirror_mode": {
    "name": "ipython",
    "version": 3
   },
   "file_extension": ".py",
   "mimetype": "text/x-python",
   "name": "python",
   "nbconvert_exporter": "python",
   "pygments_lexer": "ipython3",
   "version": "3.11.6"
  }
 },
 "nbformat": 4,
 "nbformat_minor": 5
}
